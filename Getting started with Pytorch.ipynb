{
 "cells": [
  {
   "cell_type": "markdown",
   "metadata": {},
   "source": [
    "<b> Installing Pytorch </b>"
   ]
  },
  {
   "cell_type": "code",
   "execution_count": 3,
   "metadata": {
    "collapsed": true
   },
   "outputs": [],
   "source": [
    "# !conda install -c soumith pytorch -y"
   ]
  },
  {
   "cell_type": "code",
   "execution_count": 1,
   "metadata": {
    "collapsed": true
   },
   "outputs": [],
   "source": [
    "import torch\n",
    "import numpy as np"
   ]
  },
  {
   "cell_type": "markdown",
   "metadata": {},
   "source": [
    "# Tensors"
   ]
  },
  {
   "cell_type": "markdown",
   "metadata": {},
   "source": [
    "Create a tensor of size (4 x 6) :"
   ]
  },
  {
   "cell_type": "code",
   "execution_count": 2,
   "metadata": {
    "collapsed": false
   },
   "outputs": [],
   "source": [
    "a_np = np.ones((4,6))"
   ]
  },
  {
   "cell_type": "code",
   "execution_count": 3,
   "metadata": {
    "collapsed": false
   },
   "outputs": [
    {
     "data": {
      "text/plain": [
       "\n",
       " 1  1  1  1  1  1\n",
       " 1  1  1  1  1  1\n",
       " 1  1  1  1  1  1\n",
       " 1  1  1  1  1  1\n",
       "[torch.FloatTensor of size 4x6]"
      ]
     },
     "execution_count": 3,
     "metadata": {},
     "output_type": "execute_result"
    }
   ],
   "source": [
    "torch.ones(4,6)"
   ]
  },
  {
   "cell_type": "code",
   "execution_count": 4,
   "metadata": {
    "collapsed": false
   },
   "outputs": [
    {
     "data": {
      "text/plain": [
       "\n",
       " 0  0  0  0  0  0\n",
       " 0  0  0  0  0  0\n",
       " 0  0  0  0  0  0\n",
       " 0  0  0  0  0  0\n",
       "[torch.FloatTensor of size 4x6]"
      ]
     },
     "execution_count": 4,
     "metadata": {},
     "output_type": "execute_result"
    }
   ],
   "source": [
    "torch.zeros(4,6)"
   ]
  },
  {
   "cell_type": "code",
   "execution_count": 5,
   "metadata": {
    "collapsed": true
   },
   "outputs": [],
   "source": [
    "a = torch.FloatTensor(3,5)"
   ]
  },
  {
   "cell_type": "code",
   "execution_count": 6,
   "metadata": {
    "collapsed": false
   },
   "outputs": [
    {
     "data": {
      "text/plain": [
       "\n",
       " 5  5  5  5  5\n",
       " 5  5  5  5  5\n",
       " 5  5  5  5  5\n",
       "[torch.FloatTensor of size 3x5]"
      ]
     },
     "execution_count": 6,
     "metadata": {},
     "output_type": "execute_result"
    }
   ],
   "source": [
    "a.fill_(5.)"
   ]
  },
  {
   "cell_type": "code",
   "execution_count": 7,
   "metadata": {
    "collapsed": false
   },
   "outputs": [
    {
     "data": {
      "text/plain": [
       "\n",
       " 6  6  6  6  6  6\n",
       " 6  6  6  6  6  6\n",
       " 6  6  6  6  6  6\n",
       " 6  6  6  6  6  6\n",
       "[torch.FloatTensor of size 4x6]"
      ]
     },
     "execution_count": 7,
     "metadata": {},
     "output_type": "execute_result"
    }
   ],
   "source": [
    "b = torch.zeros(4,6)\n",
    "b.fill_(6)"
   ]
  },
  {
   "cell_type": "code",
   "execution_count": 8,
   "metadata": {
    "collapsed": false
   },
   "outputs": [
    {
     "data": {
      "text/plain": [
       "\n",
       " 6  6  6  6  6  6\n",
       " 6  6  6  6  6  6\n",
       " 6  6  6  6  6  6\n",
       " 6  6  6  6  6  6\n",
       "[torch.FloatTensor of size 4x6]"
      ]
     },
     "execution_count": 8,
     "metadata": {},
     "output_type": "execute_result"
    }
   ],
   "source": [
    "b"
   ]
  },
  {
   "cell_type": "code",
   "execution_count": 9,
   "metadata": {
    "collapsed": false
   },
   "outputs": [
    {
     "data": {
      "text/plain": [
       "array([[ 2.,  2.,  2.,  2.,  2.,  2.],\n",
       "       [ 2.,  2.,  2.,  2.,  2.,  2.],\n",
       "       [ 2.,  2.,  2.,  2.,  2.,  2.],\n",
       "       [ 2.,  2.,  2.,  2.,  2.,  2.]])"
      ]
     },
     "execution_count": 9,
     "metadata": {},
     "output_type": "execute_result"
    }
   ],
   "source": [
    "a_np + 1"
   ]
  },
  {
   "cell_type": "markdown",
   "metadata": {},
   "source": [
    "<b> In-place/ out-of-place operations </b>"
   ]
  },
  {
   "cell_type": "code",
   "execution_count": 10,
   "metadata": {
    "collapsed": false
   },
   "outputs": [
    {
     "data": {
      "text/plain": [
       "\n",
       " 0.8571  0.8571  0.8571  0.8571  0.8571  0.8571\n",
       " 0.8571  0.8571  0.8571  0.8571  0.8571  0.8571\n",
       " 0.8571  0.8571  0.8571  0.8571  0.8571  0.8571\n",
       " 0.8571  0.8571  0.8571  0.8571  0.8571  0.8571\n",
       "[torch.FloatTensor of size 4x6]"
      ]
     },
     "execution_count": 10,
     "metadata": {},
     "output_type": "execute_result"
    }
   ],
   "source": [
    "b.div(7)"
   ]
  },
  {
   "cell_type": "code",
   "execution_count": 11,
   "metadata": {
    "collapsed": false
   },
   "outputs": [
    {
     "data": {
      "text/plain": [
       "\n",
       " 6  6  6  6  6  6\n",
       " 6  6  6  6  6  6\n",
       " 6  6  6  6  6  6\n",
       " 6  6  6  6  6  6\n",
       "[torch.FloatTensor of size 4x6]"
      ]
     },
     "execution_count": 11,
     "metadata": {},
     "output_type": "execute_result"
    }
   ],
   "source": [
    "b"
   ]
  },
  {
   "cell_type": "code",
   "execution_count": 12,
   "metadata": {
    "collapsed": false
   },
   "outputs": [
    {
     "data": {
      "text/plain": [
       "\n",
       " 0.8571  0.8571  0.8571  0.8571  0.8571  0.8571\n",
       " 0.8571  0.8571  0.8571  0.8571  0.8571  0.8571\n",
       " 0.8571  0.8571  0.8571  0.8571  0.8571  0.8571\n",
       " 0.8571  0.8571  0.8571  0.8571  0.8571  0.8571\n",
       "[torch.FloatTensor of size 4x6]"
      ]
     },
     "execution_count": 12,
     "metadata": {},
     "output_type": "execute_result"
    }
   ],
   "source": [
    "b.div_(7)"
   ]
  },
  {
   "cell_type": "code",
   "execution_count": 13,
   "metadata": {
    "collapsed": false
   },
   "outputs": [
    {
     "data": {
      "text/plain": [
       "\n",
       " 0.8571  0.8571  0.8571  0.8571  0.8571  0.8571\n",
       " 0.8571  0.8571  0.8571  0.8571  0.8571  0.8571\n",
       " 0.8571  0.8571  0.8571  0.8571  0.8571  0.8571\n",
       " 0.8571  0.8571  0.8571  0.8571  0.8571  0.8571\n",
       "[torch.FloatTensor of size 4x6]"
      ]
     },
     "execution_count": 13,
     "metadata": {},
     "output_type": "execute_result"
    }
   ],
   "source": [
    "b"
   ]
  },
  {
   "cell_type": "code",
   "execution_count": 14,
   "metadata": {
    "collapsed": false
   },
   "outputs": [
    {
     "data": {
      "text/plain": [
       "\n",
       " 2.5714  2.5714  2.5714  2.5714  2.5714  2.5714\n",
       " 2.5714  2.5714  2.5714  2.5714  2.5714  2.5714\n",
       " 2.5714  2.5714  2.5714  2.5714  2.5714  2.5714\n",
       " 2.5714  2.5714  2.5714  2.5714  2.5714  2.5714\n",
       "[torch.FloatTensor of size 4x6]"
      ]
     },
     "execution_count": 14,
     "metadata": {},
     "output_type": "execute_result"
    }
   ],
   "source": [
    "b.mul(3)"
   ]
  },
  {
   "cell_type": "code",
   "execution_count": 15,
   "metadata": {
    "collapsed": false
   },
   "outputs": [
    {
     "data": {
      "text/plain": [
       "\n",
       " 11.3571  11.3571  11.3571  11.3571  11.3571  11.3571\n",
       " 11.3571  11.3571  11.3571  11.3571  11.3571  11.3571\n",
       " 11.3571  11.3571  11.3571  11.3571  11.3571  11.3571\n",
       " 11.3571  11.3571  11.3571  11.3571  11.3571  11.3571\n",
       "[torch.FloatTensor of size 4x6]"
      ]
     },
     "execution_count": 15,
     "metadata": {},
     "output_type": "execute_result"
    }
   ],
   "source": [
    "b.add(10.5)"
   ]
  },
  {
   "cell_type": "code",
   "execution_count": 16,
   "metadata": {
    "collapsed": false
   },
   "outputs": [
    {
     "data": {
      "text/plain": [
       "\n",
       "-1.1429 -1.1429 -1.1429 -1.1429 -1.1429 -1.1429\n",
       "-1.1429 -1.1429 -1.1429 -1.1429 -1.1429 -1.1429\n",
       "-1.1429 -1.1429 -1.1429 -1.1429 -1.1429 -1.1429\n",
       "-1.1429 -1.1429 -1.1429 -1.1429 -1.1429 -1.1429\n",
       "[torch.FloatTensor of size 4x6]"
      ]
     },
     "execution_count": 16,
     "metadata": {},
     "output_type": "execute_result"
    }
   ],
   "source": [
    "b.sub(2)"
   ]
  },
  {
   "cell_type": "code",
   "execution_count": 17,
   "metadata": {
    "collapsed": false
   },
   "outputs": [
    {
     "data": {
      "text/plain": [
       "\n",
       " 0.8571  0.8571  0.8571  0.8571\n",
       " 0.8571  0.8571  0.8571  0.8571\n",
       " 0.8571  0.8571  0.8571  0.8571\n",
       " 0.8571  0.8571  0.8571  0.8571\n",
       " 0.8571  0.8571  0.8571  0.8571\n",
       " 0.8571  0.8571  0.8571  0.8571\n",
       "[torch.FloatTensor of size 6x4]"
      ]
     },
     "execution_count": 17,
     "metadata": {},
     "output_type": "execute_result"
    }
   ],
   "source": [
    "b.transpose(0,1)"
   ]
  },
  {
   "cell_type": "code",
   "execution_count": 18,
   "metadata": {
    "collapsed": true
   },
   "outputs": [],
   "source": [
    "c = torch.rand(3,4)"
   ]
  },
  {
   "cell_type": "code",
   "execution_count": 19,
   "metadata": {
    "collapsed": false
   },
   "outputs": [
    {
     "data": {
      "text/plain": [
       "\n",
       " 0.0874  0.9883  0.3925  0.4450\n",
       " 0.9754  0.7935  0.2538  0.9031\n",
       " 0.5353  0.5305  0.5907  0.2758\n",
       "[torch.FloatTensor of size 3x4]"
      ]
     },
     "execution_count": 19,
     "metadata": {},
     "output_type": "execute_result"
    }
   ],
   "source": [
    "c"
   ]
  },
  {
   "cell_type": "code",
   "execution_count": 20,
   "metadata": {
    "collapsed": false
   },
   "outputs": [
    {
     "data": {
      "text/plain": [
       "0.0873919129371643"
      ]
     },
     "execution_count": 20,
     "metadata": {},
     "output_type": "execute_result"
    }
   ],
   "source": [
    "c.min()"
   ]
  },
  {
   "cell_type": "code",
   "execution_count": 21,
   "metadata": {
    "collapsed": false
   },
   "outputs": [
    {
     "data": {
      "text/plain": [
       "0.9883310794830322"
      ]
     },
     "execution_count": 21,
     "metadata": {},
     "output_type": "execute_result"
    }
   ],
   "source": [
    "c.max()"
   ]
  },
  {
   "cell_type": "code",
   "execution_count": 22,
   "metadata": {
    "collapsed": false
   },
   "outputs": [
    {
     "data": {
      "text/plain": [
       "0.5642791489760081"
      ]
     },
     "execution_count": 22,
     "metadata": {},
     "output_type": "execute_result"
    }
   ],
   "source": [
    "c.mean()"
   ]
  },
  {
   "cell_type": "code",
   "execution_count": 23,
   "metadata": {
    "collapsed": false
   },
   "outputs": [
    {
     "data": {
      "text/plain": [
       "6.771349787712097"
      ]
     },
     "execution_count": 23,
     "metadata": {},
     "output_type": "execute_result"
    }
   ],
   "source": [
    "c.sum()"
   ]
  },
  {
   "cell_type": "code",
   "execution_count": 24,
   "metadata": {
    "collapsed": false
   },
   "outputs": [
    {
     "data": {
      "text/plain": [
       "\n",
       " 1.5981\n",
       " 2.3124\n",
       " 1.2370\n",
       " 1.6239\n",
       "[torch.FloatTensor of size 4]"
      ]
     },
     "execution_count": 24,
     "metadata": {},
     "output_type": "execute_result"
    }
   ],
   "source": [
    "c.sum(0)"
   ]
  },
  {
   "cell_type": "code",
   "execution_count": 25,
   "metadata": {
    "collapsed": false
   },
   "outputs": [
    {
     "data": {
      "text/plain": [
       "\n",
       " 1.9132\n",
       " 2.9258\n",
       " 1.9323\n",
       "[torch.FloatTensor of size 3]"
      ]
     },
     "execution_count": 25,
     "metadata": {},
     "output_type": "execute_result"
    }
   ],
   "source": [
    "c.sum(1)"
   ]
  },
  {
   "cell_type": "markdown",
   "metadata": {},
   "source": [
    "<b> Passing by reference/value </b>"
   ]
  },
  {
   "cell_type": "code",
   "execution_count": 26,
   "metadata": {
    "collapsed": true
   },
   "outputs": [],
   "source": [
    "a = b"
   ]
  },
  {
   "cell_type": "code",
   "execution_count": 27,
   "metadata": {
    "collapsed": false
   },
   "outputs": [
    {
     "data": {
      "text/plain": [
       "\n",
       " 0.8571  0.8571  0.8571  0.8571  0.8571  0.8571\n",
       " 0.8571  0.8571  0.8571  0.8571  0.8571  0.8571\n",
       " 0.8571  0.8571  0.8571  0.8571  0.8571  0.8571\n",
       " 0.8571  0.8571  0.8571  0.8571  0.8571  0.8571\n",
       "[torch.FloatTensor of size 4x6]"
      ]
     },
     "execution_count": 27,
     "metadata": {},
     "output_type": "execute_result"
    }
   ],
   "source": [
    "a"
   ]
  },
  {
   "cell_type": "code",
   "execution_count": 28,
   "metadata": {
    "collapsed": false
   },
   "outputs": [
    {
     "data": {
      "text/plain": [
       "\n",
       " 2.8571  2.8571  2.8571  2.8571  2.8571  2.8571\n",
       " 2.8571  2.8571  2.8571  2.8571  2.8571  2.8571\n",
       " 2.8571  2.8571  2.8571  2.8571  2.8571  2.8571\n",
       " 2.8571  2.8571  2.8571  2.8571  2.8571  2.8571\n",
       "[torch.FloatTensor of size 4x6]"
      ]
     },
     "execution_count": 28,
     "metadata": {},
     "output_type": "execute_result"
    }
   ],
   "source": [
    "a.add_(2)"
   ]
  },
  {
   "cell_type": "code",
   "execution_count": 29,
   "metadata": {
    "collapsed": false
   },
   "outputs": [
    {
     "data": {
      "text/plain": [
       "\n",
       " 2.8571  2.8571  2.8571  2.8571  2.8571  2.8571\n",
       " 2.8571  2.8571  2.8571  2.8571  2.8571  2.8571\n",
       " 2.8571  2.8571  2.8571  2.8571  2.8571  2.8571\n",
       " 2.8571  2.8571  2.8571  2.8571  2.8571  2.8571\n",
       "[torch.FloatTensor of size 4x6]"
      ]
     },
     "execution_count": 29,
     "metadata": {},
     "output_type": "execute_result"
    }
   ],
   "source": [
    "b"
   ]
  },
  {
   "cell_type": "code",
   "execution_count": 30,
   "metadata": {
    "collapsed": true
   },
   "outputs": [],
   "source": [
    "a = a.add(2)"
   ]
  },
  {
   "cell_type": "code",
   "execution_count": 31,
   "metadata": {
    "collapsed": false
   },
   "outputs": [
    {
     "data": {
      "text/plain": [
       "\n",
       " 4.8571  4.8571  4.8571  4.8571  4.8571  4.8571\n",
       " 4.8571  4.8571  4.8571  4.8571  4.8571  4.8571\n",
       " 4.8571  4.8571  4.8571  4.8571  4.8571  4.8571\n",
       " 4.8571  4.8571  4.8571  4.8571  4.8571  4.8571\n",
       "[torch.FloatTensor of size 4x6]"
      ]
     },
     "execution_count": 31,
     "metadata": {},
     "output_type": "execute_result"
    }
   ],
   "source": [
    "a"
   ]
  },
  {
   "cell_type": "code",
   "execution_count": 32,
   "metadata": {
    "collapsed": false
   },
   "outputs": [
    {
     "data": {
      "text/plain": [
       "\n",
       " 2.8571  2.8571  2.8571  2.8571  2.8571  2.8571\n",
       " 2.8571  2.8571  2.8571  2.8571  2.8571  2.8571\n",
       " 2.8571  2.8571  2.8571  2.8571  2.8571  2.8571\n",
       " 2.8571  2.8571  2.8571  2.8571  2.8571  2.8571\n",
       "[torch.FloatTensor of size 4x6]"
      ]
     },
     "execution_count": 32,
     "metadata": {},
     "output_type": "execute_result"
    }
   ],
   "source": [
    "b"
   ]
  },
  {
   "cell_type": "code",
   "execution_count": 33,
   "metadata": {
    "collapsed": true
   },
   "outputs": [],
   "source": [
    "c = torch.FloatTensor(4,6)"
   ]
  },
  {
   "cell_type": "code",
   "execution_count": 34,
   "metadata": {
    "collapsed": false
   },
   "outputs": [
    {
     "data": {
      "text/plain": [
       "\n",
       " 2.8571  2.8571  2.8571  2.8571  2.8571  2.8571\n",
       " 2.8571  2.8571  2.8571  2.8571  2.8571  2.8571\n",
       " 2.8571  2.8571  2.8571  2.8571  2.8571  2.8571\n",
       " 2.8571  2.8571  2.8571  2.8571  2.8571  2.8571\n",
       "[torch.FloatTensor of size 4x6]"
      ]
     },
     "execution_count": 34,
     "metadata": {},
     "output_type": "execute_result"
    }
   ],
   "source": [
    "c.copy_(b)"
   ]
  },
  {
   "cell_type": "code",
   "execution_count": 35,
   "metadata": {
    "collapsed": false
   },
   "outputs": [
    {
     "data": {
      "text/plain": [
       "\n",
       " 65.7143  65.7143  65.7143  65.7143  65.7143  65.7143\n",
       " 65.7143  65.7143  65.7143  65.7143  65.7143  65.7143\n",
       " 65.7143  65.7143  65.7143  65.7143  65.7143  65.7143\n",
       " 65.7143  65.7143  65.7143  65.7143  65.7143  65.7143\n",
       "[torch.FloatTensor of size 4x6]"
      ]
     },
     "execution_count": 35,
     "metadata": {},
     "output_type": "execute_result"
    }
   ],
   "source": [
    "c.mul_(23)"
   ]
  },
  {
   "cell_type": "code",
   "execution_count": 36,
   "metadata": {
    "collapsed": false
   },
   "outputs": [
    {
     "data": {
      "text/plain": [
       "\n",
       " 2.8571  2.8571  2.8571  2.8571  2.8571  2.8571\n",
       " 2.8571  2.8571  2.8571  2.8571  2.8571  2.8571\n",
       " 2.8571  2.8571  2.8571  2.8571  2.8571  2.8571\n",
       " 2.8571  2.8571  2.8571  2.8571  2.8571  2.8571\n",
       "[torch.FloatTensor of size 4x6]"
      ]
     },
     "execution_count": 36,
     "metadata": {},
     "output_type": "execute_result"
    }
   ],
   "source": [
    "b"
   ]
  },
  {
   "cell_type": "markdown",
   "metadata": {},
   "source": [
    "<b> Indexing and slicing </b>"
   ]
  },
  {
   "cell_type": "code",
   "execution_count": 37,
   "metadata": {
    "collapsed": false
   },
   "outputs": [
    {
     "data": {
      "text/plain": [
       "2.857142925262451"
      ]
     },
     "execution_count": 37,
     "metadata": {},
     "output_type": "execute_result"
    }
   ],
   "source": [
    "b[0,2]"
   ]
  },
  {
   "cell_type": "code",
   "execution_count": 38,
   "metadata": {
    "collapsed": false
   },
   "outputs": [],
   "source": [
    "b[:,1]  = 5"
   ]
  },
  {
   "cell_type": "code",
   "execution_count": 39,
   "metadata": {
    "collapsed": false
   },
   "outputs": [
    {
     "data": {
      "text/plain": [
       "\n",
       " 2.8571  5.0000  2.8571  2.8571  2.8571  2.8571\n",
       " 2.8571  5.0000  2.8571  2.8571  2.8571  2.8571\n",
       " 2.8571  5.0000  2.8571  2.8571  2.8571  2.8571\n",
       " 2.8571  5.0000  2.8571  2.8571  2.8571  2.8571\n",
       "[torch.FloatTensor of size 4x6]"
      ]
     },
     "execution_count": 39,
     "metadata": {},
     "output_type": "execute_result"
    }
   ],
   "source": [
    "b"
   ]
  },
  {
   "cell_type": "code",
   "execution_count": 40,
   "metadata": {
    "collapsed": true
   },
   "outputs": [],
   "source": [
    "b[1:3,2:4] = 10"
   ]
  },
  {
   "cell_type": "code",
   "execution_count": 41,
   "metadata": {
    "collapsed": false
   },
   "outputs": [
    {
     "data": {
      "text/plain": [
       "\n",
       "  2.8571   5.0000   2.8571   2.8571   2.8571   2.8571\n",
       "  2.8571   5.0000  10.0000  10.0000   2.8571   2.8571\n",
       "  2.8571   5.0000  10.0000  10.0000   2.8571   2.8571\n",
       "  2.8571   5.0000   2.8571   2.8571   2.8571   2.8571\n",
       "[torch.FloatTensor of size 4x6]"
      ]
     },
     "execution_count": 41,
     "metadata": {},
     "output_type": "execute_result"
    }
   ],
   "source": [
    "b"
   ]
  },
  {
   "cell_type": "markdown",
   "metadata": {},
   "source": [
    "<b> Numpy array <-> Torch tensor </b>"
   ]
  },
  {
   "cell_type": "code",
   "execution_count": 42,
   "metadata": {
    "collapsed": false
   },
   "outputs": [
    {
     "data": {
      "text/plain": [
       "torch.FloatTensor"
      ]
     },
     "execution_count": 42,
     "metadata": {},
     "output_type": "execute_result"
    }
   ],
   "source": [
    "type(b)"
   ]
  },
  {
   "cell_type": "code",
   "execution_count": 43,
   "metadata": {
    "collapsed": false
   },
   "outputs": [],
   "source": [
    "b_np = b.numpy()"
   ]
  },
  {
   "cell_type": "code",
   "execution_count": 44,
   "metadata": {
    "collapsed": false
   },
   "outputs": [
    {
     "data": {
      "text/plain": [
       "array([[  2.85714293,   5.        ,   2.85714293,   2.85714293,\n",
       "          2.85714293,   2.85714293],\n",
       "       [  2.85714293,   5.        ,  10.        ,  10.        ,\n",
       "          2.85714293,   2.85714293],\n",
       "       [  2.85714293,   5.        ,  10.        ,  10.        ,\n",
       "          2.85714293,   2.85714293],\n",
       "       [  2.85714293,   5.        ,   2.85714293,   2.85714293,\n",
       "          2.85714293,   2.85714293]], dtype=float32)"
      ]
     },
     "execution_count": 44,
     "metadata": {},
     "output_type": "execute_result"
    }
   ],
   "source": [
    "b_np"
   ]
  },
  {
   "cell_type": "code",
   "execution_count": 45,
   "metadata": {
    "collapsed": false
   },
   "outputs": [
    {
     "data": {
      "text/plain": [
       "\n",
       " 1  1  1  1  1  1\n",
       " 1  1  1  1  1  1\n",
       " 1  1  1  1  1  1\n",
       " 1  1  1  1  1  1\n",
       "[torch.DoubleTensor of size 4x6]"
      ]
     },
     "execution_count": 45,
     "metadata": {},
     "output_type": "execute_result"
    }
   ],
   "source": [
    "torch.from_numpy(a_np)"
   ]
  },
  {
   "cell_type": "code",
   "execution_count": 46,
   "metadata": {
    "collapsed": false
   },
   "outputs": [
    {
     "data": {
      "text/plain": [
       "4"
      ]
     },
     "execution_count": 46,
     "metadata": {},
     "output_type": "execute_result"
    }
   ],
   "source": [
    "a_np.shape[0]"
   ]
  },
  {
   "cell_type": "code",
   "execution_count": 47,
   "metadata": {
    "collapsed": false
   },
   "outputs": [
    {
     "data": {
      "text/plain": [
       "4"
      ]
     },
     "execution_count": 47,
     "metadata": {},
     "output_type": "execute_result"
    }
   ],
   "source": [
    "a.size()[0]"
   ]
  },
  {
   "cell_type": "markdown",
   "metadata": {},
   "source": [
    "<b> Matrix multiplication </b>"
   ]
  },
  {
   "cell_type": "code",
   "execution_count": 48,
   "metadata": {
    "collapsed": true
   },
   "outputs": [],
   "source": [
    "a = torch.ones(4,6)\n",
    "b = torch.ones(6,5)"
   ]
  },
  {
   "cell_type": "code",
   "execution_count": 49,
   "metadata": {
    "collapsed": false
   },
   "outputs": [
    {
     "data": {
      "text/plain": [
       "\n",
       " 6  6  6  6  6\n",
       " 6  6  6  6  6\n",
       " 6  6  6  6  6\n",
       " 6  6  6  6  6\n",
       "[torch.FloatTensor of size 4x5]"
      ]
     },
     "execution_count": 49,
     "metadata": {},
     "output_type": "execute_result"
    }
   ],
   "source": [
    "a.mm(b)"
   ]
  },
  {
   "cell_type": "code",
   "execution_count": 50,
   "metadata": {
    "collapsed": true
   },
   "outputs": [],
   "source": [
    "a_np = a.numpy()\n",
    "b_np = b.numpy()"
   ]
  },
  {
   "cell_type": "code",
   "execution_count": 51,
   "metadata": {
    "collapsed": false
   },
   "outputs": [
    {
     "data": {
      "text/plain": [
       "array([[ 6.,  6.,  6.,  6.,  6.],\n",
       "       [ 6.,  6.,  6.,  6.,  6.],\n",
       "       [ 6.,  6.,  6.,  6.,  6.],\n",
       "       [ 6.,  6.,  6.,  6.,  6.]], dtype=float32)"
      ]
     },
     "execution_count": 51,
     "metadata": {},
     "output_type": "execute_result"
    }
   ],
   "source": [
    "a_np.dot(b_np)"
   ]
  },
  {
   "cell_type": "markdown",
   "metadata": {},
   "source": [
    "<b> Element-wise matrix operations </b>"
   ]
  },
  {
   "cell_type": "code",
   "execution_count": 52,
   "metadata": {
    "collapsed": true
   },
   "outputs": [],
   "source": [
    "a = torch.ones(4,6)\n",
    "b = torch.ones(4,6)"
   ]
  },
  {
   "cell_type": "code",
   "execution_count": 53,
   "metadata": {
    "collapsed": false
   },
   "outputs": [
    {
     "data": {
      "text/plain": [
       "\n",
       " 2  2  2  2  2  2\n",
       " 2  2  2  2  2  2\n",
       " 2  2  2  2  2  2\n",
       " 2  2  2  2  2  2\n",
       "[torch.FloatTensor of size 4x6]"
      ]
     },
     "execution_count": 53,
     "metadata": {},
     "output_type": "execute_result"
    }
   ],
   "source": [
    "a.fill_(5)\n",
    "b.fill_(2)"
   ]
  },
  {
   "cell_type": "code",
   "execution_count": 54,
   "metadata": {
    "collapsed": false
   },
   "outputs": [
    {
     "data": {
      "text/plain": [
       "\n",
       " 7  7  7  7  7  7\n",
       " 7  7  7  7  7  7\n",
       " 7  7  7  7  7  7\n",
       " 7  7  7  7  7  7\n",
       "[torch.FloatTensor of size 4x6]"
      ]
     },
     "execution_count": 54,
     "metadata": {},
     "output_type": "execute_result"
    }
   ],
   "source": [
    "a + b"
   ]
  },
  {
   "cell_type": "code",
   "execution_count": 55,
   "metadata": {
    "collapsed": false
   },
   "outputs": [
    {
     "data": {
      "text/plain": [
       "\n",
       " 3  3  3  3  3  3\n",
       " 3  3  3  3  3  3\n",
       " 3  3  3  3  3  3\n",
       " 3  3  3  3  3  3\n",
       "[torch.FloatTensor of size 4x6]"
      ]
     },
     "execution_count": 55,
     "metadata": {},
     "output_type": "execute_result"
    }
   ],
   "source": [
    "a - b"
   ]
  },
  {
   "cell_type": "code",
   "execution_count": 56,
   "metadata": {
    "collapsed": false
   },
   "outputs": [
    {
     "data": {
      "text/plain": [
       "\n",
       " 10  10  10  10  10  10\n",
       " 10  10  10  10  10  10\n",
       " 10  10  10  10  10  10\n",
       " 10  10  10  10  10  10\n",
       "[torch.FloatTensor of size 4x6]"
      ]
     },
     "execution_count": 56,
     "metadata": {},
     "output_type": "execute_result"
    }
   ],
   "source": [
    "a * b"
   ]
  },
  {
   "cell_type": "code",
   "execution_count": 57,
   "metadata": {
    "collapsed": false
   },
   "outputs": [
    {
     "data": {
      "text/plain": [
       "\n",
       " 2.5000  2.5000  2.5000  2.5000  2.5000  2.5000\n",
       " 2.5000  2.5000  2.5000  2.5000  2.5000  2.5000\n",
       " 2.5000  2.5000  2.5000  2.5000  2.5000  2.5000\n",
       " 2.5000  2.5000  2.5000  2.5000  2.5000  2.5000\n",
       "[torch.FloatTensor of size 4x6]"
      ]
     },
     "execution_count": 57,
     "metadata": {},
     "output_type": "execute_result"
    }
   ],
   "source": [
    "a / b "
   ]
  },
  {
   "cell_type": "code",
   "execution_count": null,
   "metadata": {
    "collapsed": true
   },
   "outputs": [],
   "source": []
  },
  {
   "cell_type": "markdown",
   "metadata": {},
   "source": [
    "<b> View function </b>"
   ]
  },
  {
   "cell_type": "code",
   "execution_count": 58,
   "metadata": {
    "collapsed": false
   },
   "outputs": [
    {
     "name": "stderr",
     "output_type": "stream",
     "text": [
      "/Users/A/Softwares/anaconda3/lib/python3.5/site-packages/ipykernel/__main__.py:1: UserWarning: torch.range is deprecated in favor of torch.arange and will be removed in 0.3. Note that arange generates values in [start; end), not [start; end].\n",
      "  if __name__ == '__main__':\n"
     ]
    },
    {
     "data": {
      "text/plain": [
       "\n",
       "  1   2   3   4   5   6\n",
       "  7   8   9  10  11  12\n",
       "[torch.FloatTensor of size 2x6]"
      ]
     },
     "execution_count": 58,
     "metadata": {},
     "output_type": "execute_result"
    }
   ],
   "source": [
    "a = torch.range(1,12)\n",
    "a.view(2, 6)"
   ]
  },
  {
   "cell_type": "code",
   "execution_count": 59,
   "metadata": {
    "collapsed": false
   },
   "outputs": [
    {
     "name": "stderr",
     "output_type": "stream",
     "text": [
      "/Users/A/Softwares/anaconda3/lib/python3.5/site-packages/ipykernel/__main__.py:1: UserWarning: torch.range is deprecated in favor of torch.arange and will be removed in 0.3. Note that arange generates values in [start; end), not [start; end].\n",
      "  if __name__ == '__main__':\n"
     ]
    },
    {
     "data": {
      "text/plain": [
       "\n",
       "  1   2   3   4   5   6\n",
       "  7   8   9  10  11  12\n",
       "[torch.FloatTensor of size 2x6]"
      ]
     },
     "execution_count": 59,
     "metadata": {},
     "output_type": "execute_result"
    }
   ],
   "source": [
    "torch.range(1,12).view(2,6)"
   ]
  },
  {
   "cell_type": "code",
   "execution_count": 60,
   "metadata": {
    "collapsed": false
   },
   "outputs": [
    {
     "data": {
      "text/plain": [
       "\n",
       "  1\n",
       "  2\n",
       "  3\n",
       "  4\n",
       "  5\n",
       "  6\n",
       "  7\n",
       "  8\n",
       "  9\n",
       " 10\n",
       " 11\n",
       " 12\n",
       "[torch.FloatTensor of size 12]"
      ]
     },
     "execution_count": 60,
     "metadata": {},
     "output_type": "execute_result"
    }
   ],
   "source": [
    "a"
   ]
  },
  {
   "cell_type": "code",
   "execution_count": 61,
   "metadata": {
    "collapsed": false
   },
   "outputs": [
    {
     "data": {
      "text/plain": [
       "\n",
       "  1   2   3\n",
       "  4   5   6\n",
       "  7   8   9\n",
       " 10  11  12\n",
       "[torch.FloatTensor of size 4x3]"
      ]
     },
     "execution_count": 61,
     "metadata": {},
     "output_type": "execute_result"
    }
   ],
   "source": [
    "a.view(4, 3)"
   ]
  },
  {
   "cell_type": "code",
   "execution_count": 62,
   "metadata": {
    "collapsed": false
   },
   "outputs": [
    {
     "data": {
      "text/plain": [
       "\n",
       "  1   2   3   4\n",
       "  5   6   7   8\n",
       "  9  10  11  12\n",
       "[torch.FloatTensor of size 3x4]"
      ]
     },
     "execution_count": 62,
     "metadata": {},
     "output_type": "execute_result"
    }
   ],
   "source": [
    "a.view(3, -1)"
   ]
  },
  {
   "cell_type": "code",
   "execution_count": 63,
   "metadata": {
    "collapsed": false
   },
   "outputs": [
    {
     "data": {
      "text/plain": [
       "\n",
       "  1   2   3   4\n",
       "  5   6   7   8\n",
       "  9  10  11  12\n",
       "[torch.FloatTensor of size 3x4]"
      ]
     },
     "execution_count": 63,
     "metadata": {},
     "output_type": "execute_result"
    }
   ],
   "source": [
    "a.view(-1,4)"
   ]
  },
  {
   "cell_type": "code",
   "execution_count": 64,
   "metadata": {
    "collapsed": false
   },
   "outputs": [
    {
     "data": {
      "text/plain": [
       "torch.Size([12])"
      ]
     },
     "execution_count": 64,
     "metadata": {},
     "output_type": "execute_result"
    }
   ],
   "source": [
    "a.size()"
   ]
  },
  {
   "cell_type": "code",
   "execution_count": 65,
   "metadata": {
    "collapsed": false
   },
   "outputs": [
    {
     "data": {
      "text/plain": [
       "\n",
       "  1\n",
       "  2\n",
       "  3\n",
       "  4\n",
       "  5\n",
       "  6\n",
       "  7\n",
       "  8\n",
       "  9\n",
       " 10\n",
       " 11\n",
       " 12\n",
       "[torch.FloatTensor of size 12]"
      ]
     },
     "execution_count": 65,
     "metadata": {},
     "output_type": "execute_result"
    }
   ],
   "source": [
    "a"
   ]
  },
  {
   "cell_type": "code",
   "execution_count": 66,
   "metadata": {
    "collapsed": false
   },
   "outputs": [
    {
     "data": {
      "text/plain": [
       "\n",
       "    1     2     3     4     5     6     7     8     9    10    11    12\n",
       "[torch.FloatTensor of size 1x12]"
      ]
     },
     "execution_count": 66,
     "metadata": {},
     "output_type": "execute_result"
    }
   ],
   "source": [
    "a.unsqueeze(0)  # reshape()"
   ]
  },
  {
   "cell_type": "code",
   "execution_count": 67,
   "metadata": {
    "collapsed": false
   },
   "outputs": [
    {
     "data": {
      "text/plain": [
       "\n",
       "    1\n",
       "    2\n",
       "    3\n",
       "    4\n",
       "    5\n",
       "    6\n",
       "    7\n",
       "    8\n",
       "    9\n",
       "   10\n",
       "   11\n",
       "   12\n",
       "[torch.FloatTensor of size 12x1]"
      ]
     },
     "execution_count": 67,
     "metadata": {},
     "output_type": "execute_result"
    }
   ],
   "source": [
    "a.unsqueeze(1)"
   ]
  },
  {
   "cell_type": "code",
   "execution_count": 68,
   "metadata": {
    "collapsed": false
   },
   "outputs": [],
   "source": [
    "b = a.unsqueeze(0)"
   ]
  },
  {
   "cell_type": "code",
   "execution_count": 69,
   "metadata": {
    "collapsed": false
   },
   "outputs": [
    {
     "data": {
      "text/plain": [
       "\n",
       "    1     2     3     4     5     6     7     8     9    10    11    12\n",
       "[torch.FloatTensor of size 1x12]"
      ]
     },
     "execution_count": 69,
     "metadata": {},
     "output_type": "execute_result"
    }
   ],
   "source": [
    "b"
   ]
  },
  {
   "cell_type": "code",
   "execution_count": 70,
   "metadata": {
    "collapsed": false
   },
   "outputs": [
    {
     "data": {
      "text/plain": [
       "\n",
       "  1\n",
       "  2\n",
       "  3\n",
       "  4\n",
       "  5\n",
       "  6\n",
       "  7\n",
       "  8\n",
       "  9\n",
       " 10\n",
       " 11\n",
       " 12\n",
       "[torch.FloatTensor of size 12]"
      ]
     },
     "execution_count": 70,
     "metadata": {},
     "output_type": "execute_result"
    }
   ],
   "source": [
    "b.squeeze()"
   ]
  }
 ],
 "metadata": {
  "anaconda-cloud": {},
  "kernelspec": {
   "display_name": "Python [conda root]",
   "language": "python",
   "name": "conda-root-py"
  },
  "language_info": {
   "codemirror_mode": {
    "name": "ipython",
    "version": 3
   },
   "file_extension": ".py",
   "mimetype": "text/x-python",
   "name": "python",
   "nbconvert_exporter": "python",
   "pygments_lexer": "ipython3",
   "version": "3.5.2"
  }
 },
 "nbformat": 4,
 "nbformat_minor": 2
}
